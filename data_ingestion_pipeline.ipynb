{
 "cells": [
  {
   "cell_type": "code",
   "execution_count": 1,
   "id": "fd810d9f",
   "metadata": {},
   "outputs": [
    {
     "name": "stdout",
     "output_type": "stream",
     "text": [
      "Defaulting to user installation because normal site-packages is not writeable\n",
      "Requirement already satisfied: modin in c:\\users\\taimoor razi\\appdata\\roaming\\python\\python39\\site-packages (0.15.2)\n",
      "Requirement already satisfied: packaging in c:\\programdata\\anaconda3\\lib\\site-packages (from modin) (21.3)\n",
      "Requirement already satisfied: fsspec in c:\\programdata\\anaconda3\\lib\\site-packages (from modin) (2022.2.0)\n",
      "Requirement already satisfied: numpy>=1.18.5 in c:\\programdata\\anaconda3\\lib\\site-packages (from modin) (1.21.5)\n",
      "Requirement already satisfied: pandas==1.4.3 in c:\\users\\taimoor razi\\appdata\\roaming\\python\\python39\\site-packages (from modin) (1.4.3)\n",
      "Requirement already satisfied: psutil in c:\\programdata\\anaconda3\\lib\\site-packages (from modin) (5.8.0)\n",
      "Requirement already satisfied: pytz>=2020.1 in c:\\programdata\\anaconda3\\lib\\site-packages (from pandas==1.4.3->modin) (2021.3)\n",
      "Requirement already satisfied: python-dateutil>=2.8.1 in c:\\programdata\\anaconda3\\lib\\site-packages (from pandas==1.4.3->modin) (2.8.2)\n",
      "Requirement already satisfied: six>=1.5 in c:\\programdata\\anaconda3\\lib\\site-packages (from python-dateutil>=2.8.1->pandas==1.4.3->modin) (1.16.0)\n",
      "Requirement already satisfied: pyparsing!=3.0.5,>=2.0.2 in c:\\programdata\\anaconda3\\lib\\site-packages (from packaging->modin) (3.0.4)\n"
     ]
    }
   ],
   "source": [
    "!pip install modin"
   ]
  },
  {
   "cell_type": "code",
   "execution_count": 2,
   "id": "0422de9c",
   "metadata": {},
   "outputs": [
    {
     "name": "stdout",
     "output_type": "stream",
     "text": [
      "Defaulting to user installation because normal site-packages is not writeable\n",
      "Requirement already satisfied: dask in c:\\programdata\\anaconda3\\lib\\site-packages (2022.2.1)\n",
      "Requirement already satisfied: pyyaml>=5.3.1 in c:\\programdata\\anaconda3\\lib\\site-packages (from dask) (6.0)\n",
      "Requirement already satisfied: packaging>=20.0 in c:\\programdata\\anaconda3\\lib\\site-packages (from dask) (21.3)\n",
      "Requirement already satisfied: toolz>=0.8.2 in c:\\programdata\\anaconda3\\lib\\site-packages (from dask) (0.11.2)\n",
      "Requirement already satisfied: fsspec>=0.6.0 in c:\\programdata\\anaconda3\\lib\\site-packages (from dask) (2022.2.0)\n",
      "Requirement already satisfied: cloudpickle>=1.1.1 in c:\\programdata\\anaconda3\\lib\\site-packages (from dask) (2.0.0)\n",
      "Requirement already satisfied: partd>=0.3.10 in c:\\programdata\\anaconda3\\lib\\site-packages (from dask) (1.2.0)\n",
      "Requirement already satisfied: pyparsing!=3.0.5,>=2.0.2 in c:\\programdata\\anaconda3\\lib\\site-packages (from packaging>=20.0->dask) (3.0.4)\n",
      "Requirement already satisfied: locket in c:\\programdata\\anaconda3\\lib\\site-packages (from partd>=0.3.10->dask) (0.2.1)\n"
     ]
    }
   ],
   "source": [
    "!pip install dask"
   ]
  },
  {
   "cell_type": "code",
   "execution_count": 3,
   "id": "ef1974ab",
   "metadata": {},
   "outputs": [
    {
     "name": "stdout",
     "output_type": "stream",
     "text": [
      "Defaulting to user installation because normal site-packages is not writeable\n",
      "Requirement already satisfied: ray in c:\\users\\taimoor razi\\appdata\\roaming\\python\\python39\\site-packages (1.13.0)\n",
      "Requirement already satisfied: frozenlist in c:\\programdata\\anaconda3\\lib\\site-packages (from ray) (1.2.0)\n",
      "Requirement already satisfied: filelock in c:\\programdata\\anaconda3\\lib\\site-packages (from ray) (3.6.0)\n",
      "Requirement already satisfied: aiosignal in c:\\programdata\\anaconda3\\lib\\site-packages (from ray) (1.2.0)\n",
      "Requirement already satisfied: protobuf<4.0.0,>=3.15.3 in c:\\programdata\\anaconda3\\lib\\site-packages (from ray) (3.19.1)\n",
      "Requirement already satisfied: requests in c:\\programdata\\anaconda3\\lib\\site-packages (from ray) (2.27.1)\n",
      "Requirement already satisfied: grpcio<=1.43.0,>=1.28.1 in c:\\programdata\\anaconda3\\lib\\site-packages (from ray) (1.42.0)\n",
      "Requirement already satisfied: click<=8.0.4,>=7.0 in c:\\programdata\\anaconda3\\lib\\site-packages (from ray) (8.0.4)\n",
      "Requirement already satisfied: virtualenv in c:\\users\\taimoor razi\\appdata\\roaming\\python\\python39\\site-packages (from ray) (20.15.1)\n",
      "Requirement already satisfied: numpy>=1.19.3 in c:\\programdata\\anaconda3\\lib\\site-packages (from ray) (1.21.5)\n",
      "Requirement already satisfied: attrs in c:\\programdata\\anaconda3\\lib\\site-packages (from ray) (21.4.0)\n",
      "Requirement already satisfied: msgpack<2.0.0,>=1.0.0 in c:\\programdata\\anaconda3\\lib\\site-packages (from ray) (1.0.2)\n",
      "Requirement already satisfied: jsonschema in c:\\programdata\\anaconda3\\lib\\site-packages (from ray) (4.4.0)\n",
      "Requirement already satisfied: pyyaml in c:\\programdata\\anaconda3\\lib\\site-packages (from ray) (6.0)\n",
      "Requirement already satisfied: colorama in c:\\programdata\\anaconda3\\lib\\site-packages (from click<=8.0.4,>=7.0->ray) (0.4.4)\n",
      "Requirement already satisfied: six>=1.5.2 in c:\\programdata\\anaconda3\\lib\\site-packages (from grpcio<=1.43.0,>=1.28.1->ray) (1.16.0)\n",
      "Requirement already satisfied: pyrsistent!=0.17.0,!=0.17.1,!=0.17.2,>=0.14.0 in c:\\programdata\\anaconda3\\lib\\site-packages (from jsonschema->ray) (0.18.0)\n",
      "Requirement already satisfied: idna<4,>=2.5 in c:\\programdata\\anaconda3\\lib\\site-packages (from requests->ray) (3.3)\n",
      "Requirement already satisfied: certifi>=2017.4.17 in c:\\programdata\\anaconda3\\lib\\site-packages (from requests->ray) (2021.10.8)\n",
      "Requirement already satisfied: urllib3<1.27,>=1.21.1 in c:\\programdata\\anaconda3\\lib\\site-packages (from requests->ray) (1.26.9)\n",
      "Requirement already satisfied: charset-normalizer~=2.0.0 in c:\\programdata\\anaconda3\\lib\\site-packages (from requests->ray) (2.0.4)\n",
      "Requirement already satisfied: distlib<1,>=0.3.1 in c:\\users\\taimoor razi\\appdata\\roaming\\python\\python39\\site-packages (from virtualenv->ray) (0.3.4)\n",
      "Requirement already satisfied: platformdirs<3,>=2 in c:\\users\\taimoor razi\\appdata\\roaming\\python\\python39\\site-packages (from virtualenv->ray) (2.5.2)\n"
     ]
    }
   ],
   "source": [
    "!pip install ray"
   ]
  },
  {
   "cell_type": "code",
   "execution_count": 4,
   "id": "4ec504df",
   "metadata": {},
   "outputs": [
    {
     "name": "stdout",
     "output_type": "stream",
     "text": [
      "Defaulting to user installation because normal site-packages is not writeable\n",
      "Requirement already satisfied: pyarrow in c:\\users\\taimoor razi\\appdata\\roaming\\python\\python39\\site-packages (9.0.0)\n",
      "Requirement already satisfied: numpy>=1.16.6 in c:\\programdata\\anaconda3\\lib\\site-packages (from pyarrow) (1.21.5)\n",
      "Note: you may need to restart the kernel to use updated packages.\n"
     ]
    }
   ],
   "source": [
    "pip install pyarrow"
   ]
  },
  {
   "cell_type": "code",
   "execution_count": 5,
   "id": "9a68b236",
   "metadata": {},
   "outputs": [],
   "source": [
    "# Pandas \n",
    "import pandas as pd\n",
    "# Modin\n",
    "import modin\n",
    "import modin.pandas as mpd\n",
    "import ray\n",
    "## Dask CPU\n",
    "import dask.dataframe as dd"
   ]
  },
  {
   "cell_type": "code",
   "execution_count": null,
   "id": "592fc4ab",
   "metadata": {},
   "outputs": [],
   "source": [
    "%%timeit\n",
    "df = pd.read_csv(\"large_example_file.csv\")"
   ]
  },
  {
   "cell_type": "code",
   "execution_count": null,
   "id": "277ce9ca",
   "metadata": {},
   "outputs": [],
   "source": [
    "%%timeit\n",
    "ddf = dd.read_csv(\"large_example_file.csv\")"
   ]
  },
  {
   "cell_type": "code",
   "execution_count": null,
   "id": "eb85c11b",
   "metadata": {},
   "outputs": [],
   "source": [
    "# Modin with Dask\n",
    "import os\n",
    "os.environ[\"MODIN_ENGINE\"] = \"dask\"  # Modin will use Dask\n",
    "from distributed import Client\n",
    "client = Client(memory_limit='8GB')\n",
    "import modin.pandas as dask_pd\n",
    "%time  mdask_df = dask_pd.read_csv(\"large_example_file.csv\")"
   ]
  },
  {
   "cell_type": "markdown",
   "id": "414ae2f8",
   "metadata": {},
   "source": [
    "***Clearly Dask outperformed Pandas by a big margin. It took around 1 minute for pandas to read the big file while it took less than 1 second for dask to do the same.***"
   ]
  },
  {
   "cell_type": "markdown",
   "id": "983e9702",
   "metadata": {},
   "source": [
    "### Utility file\n",
    "### Config file \n",
    "### Data Ingestion Pipeline"
   ]
  },
  {
   "cell_type": "code",
   "execution_count": null,
   "id": "b59096a5",
   "metadata": {},
   "outputs": [],
   "source": [
    "%%writefile testutility.py\n",
    "import logging\n",
    "import os\n",
    "import subprocess\n",
    "import yaml \n",
    "import pandas as pd\n",
    "import datetime\n",
    "import gc\n",
    "import re\n",
    "\n",
    "#################\n",
    "# File Reading #\n",
    "#################\n",
    "\n",
    "def read_config_file(filepath):\n",
    "  with open(filepath, \"r\") as stream:\n",
    "    try:\n",
    "      return yaml.safe_load(stream)\n",
    "    except yaml.YAMLError as exc:\n",
    "      logging.error(exc)\n",
    "\n",
    "def replacer(string, char):\n",
    "  pattern = char + \"{2,}\"\n",
    "  string = re.sub(pattern , char, string)\n",
    "  return string\n",
    "\n",
    "def col_header_val(df, table_config):\n",
    "  '''\n",
    "  replace whitespaces in the column \n",
    "  and standardized column names\n",
    "  '''\n",
    "  df.columns = df.columns.str.lower()\n",
    "  df.columns = df.columns.str.replace('[^w]', '_', regex=True)\n",
    "  df.columns = list(map(lambda x: x.strip(\"_\"), list(df.columns)))\n",
    "  df.columns = list(map(lambda x: replacer(x, \"_\"), list(df.columns)))\n",
    "  expected_col = list(map(lambda x: x.lower(), table_config[\"columns\"]))\n",
    "  expected_col.sort()\n",
    "  df.columns = list(map(lambda x: x.lower(), list(df.columns)))\n",
    "  df = df.reindex(sorted(df.columns), axis=1)\n",
    "  if len(df.columns) == len(expected_col) and list(expected_col) == list(df.columns): \n",
    "    print(\"column name and column length validation passed\")\n",
    "    return 1\n",
    "  else: \n",
    "    print(\"column name and columns length validation failed\")\n",
    "    mismatched_columns_file = list(set(df.columns).difference(expected_col))\n",
    "    print(\"Following File columns are not in the YAML file\", mismatched_columns_file)\n",
    "    missing_YAML_file = list(set(expected_col).difference(df.columns))\n",
    "    print(\"Following YAML columns are not in the file uploaded\", missing_YAML_file)\n",
    "    logging.info(f'expected columns: {expected_col}')\n",
    "    return 0"
   ]
  },
  {
   "cell_type": "markdown",
   "id": "34c1448f",
   "metadata": {},
   "source": [
    "## Write YAML File"
   ]
  },
  {
   "cell_type": "code",
   "execution_count": null,
   "id": "80c907c0",
   "metadata": {},
   "outputs": [],
   "source": [
    "%%writefile file.yaml\n",
    "file_type: csv\n",
    "dataset_name: testfile\n",
    "file_name: large_example_file\n",
    "table_name: edsurv\n",
    "inbound_delimeter: \",\"\n",
    "outbound_delimeter: \"|\"\n",
    "skip_leading_rows: 1\n",
    "columns:\n",
    "  - \"\"\n",
    "  - \"\"\n",
    "  - \"\"\n",
    "  - \"\"\n",
    "  - \"\"\n",
    "  - \"\"\n",
    "  - \"\"\n",
    "  - \"\""
   ]
  },
  {
   "cell_type": "code",
   "execution_count": null,
   "id": "b45ff5ed",
   "metadata": {},
   "outputs": [],
   "source": [
    "# Read Config file\n",
    "import testutility as util\n",
    "config_data = util.read_config_file(\"file.yaml\")"
   ]
  },
  {
   "cell_type": "code",
   "execution_count": null,
   "id": "ef70f11f",
   "metadata": {},
   "outputs": [],
   "source": [
    "config_data[\"file_name\"]"
   ]
  },
  {
   "cell_type": "code",
   "execution_count": null,
   "id": "b27aca31",
   "metadata": {},
   "outputs": [],
   "source": [
    "config_data"
   ]
  },
  {
   "cell_type": "code",
   "execution_count": null,
   "id": "09b12ffc",
   "metadata": {},
   "outputs": [],
   "source": [
    "# read the file using config file\n",
    "file_type = config_data[\"file_type\"]\n",
    "source_file = \"./\" + config_data[\"file_name\"] + f\".{file_type}\"\n",
    "# print(\"\", source_file)\n",
    "df = pd.read_csv(source_file, config_data[\"inbound_delimeter\"])\n",
    "df = df.reset_index(drop=True)"
   ]
  },
  {
   "cell_type": "code",
   "execution_count": null,
   "id": "b39c69cb",
   "metadata": {},
   "outputs": [],
   "source": [
    "df.shape"
   ]
  },
  {
   "cell_type": "code",
   "execution_count": null,
   "id": "d43f499c",
   "metadata": {},
   "outputs": [],
   "source": [
    "# validate the header of the file\n",
    "util.col_header_val(df, config_data)"
   ]
  },
  {
   "cell_type": "code",
   "execution_count": null,
   "id": "1c5f84fa",
   "metadata": {},
   "outputs": [],
   "source": [
    "print(\"columns of the file are:\", df.columns)\n",
    "print(\"columns of the YAML are:\", config_data[\"columns\"])"
   ]
  },
  {
   "cell_type": "code",
   "execution_count": null,
   "id": "1f4c2886",
   "metadata": {},
   "outputs": [],
   "source": [
    "if util.col_header_val(df, config_data) == 0:\n",
    "  print(\"Validation Failed\")\n",
    "else:\n",
    "  print(\"col validation passed\")\n",
    "  # Code to perform further action in the pipeline"
   ]
  },
  {
   "cell_type": "code",
   "execution_count": null,
   "id": "3f965e8a",
   "metadata": {},
   "outputs": [],
   "source": [
    "def summary(df):\n",
    "    rows = len(df)\n",
    "    columns = len(df.columns)\n",
    "    print(f\"Number of Rows: {rows}\")\n",
    "    print(f\"Number of Columns: {columns}\")\n",
    "    print(\"Size: 4.23 GB\")"
   ]
  },
  {
   "cell_type": "code",
   "execution_count": null,
   "id": "b8f56db3",
   "metadata": {},
   "outputs": [],
   "source": [
    "summary(df)"
   ]
  },
  {
   "cell_type": "code",
   "execution_count": null,
   "id": "5e006061",
   "metadata": {},
   "outputs": [],
   "source": [
    "import gzip\n",
    "input_file = \"data_ingestion_pipeline.ipynb\"\n",
    "output_file = \"data_ingestion_sample.gz\"\n",
    "with open(input_file, 'rb') as f_in, gzip.open(output_file, 'wb') as f_out:\n",
    "    f_out.write(f_in.read())"
   ]
  },
  {
   "cell_type": "code",
   "execution_count": null,
   "id": "a5726cdf",
   "metadata": {},
   "outputs": [],
   "source": [
    "import zipfile\n",
    "\n",
    "list_files = ['file.yaml', 'testutility.py', 'data_ingestion_pipeline.ipynb']\n",
    "\n",
    "with zipfile.ZipFile('final.zip', 'w') as zipF:\n",
    "    for file in list_files:\n",
    "        zipF.write(file, compress_type=zipfile.ZIP_DEFLATED)"
   ]
  },
  {
   "cell_type": "code",
   "execution_count": null,
   "id": "c056ad9d",
   "metadata": {},
   "outputs": [],
   "source": []
  }
 ],
 "metadata": {
  "kernelspec": {
   "display_name": "Python 3 (ipykernel)",
   "language": "python",
   "name": "python3"
  },
  "language_info": {
   "codemirror_mode": {
    "name": "ipython",
    "version": 3
   },
   "file_extension": ".py",
   "mimetype": "text/x-python",
   "name": "python",
   "nbconvert_exporter": "python",
   "pygments_lexer": "ipython3",
   "version": "3.9.12"
  }
 },
 "nbformat": 4,
 "nbformat_minor": 5
}
